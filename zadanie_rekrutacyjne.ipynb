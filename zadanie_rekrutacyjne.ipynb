{
 "cells": [
  {
   "cell_type": "markdown",
   "metadata": {},
   "source": [
    "**Seria warsztatów z analizy danych w Pythonie**\n",
    "\n",
    "_Zadanie rekrutacyjne_\n",
    "\n",
    "Napisz funkcję <code><font color=\"blue\">are_anagrams</font>(s1, s2, s3)</code>, która zwróci:\n",
    "\n",
    "* <code>True</code>, jeżeli łańcuchy znaków <code>s1, s2, s3</code> są anagramami,\n",
    "\n",
    "* <code>False</code>, jeżeli łańcuchy znaków <code>s1, s2, s3</code> nie są anagramami.\n",
    "\n",
    "Załóż, że maksymalna długość każdego z łańcuchów znaków jest równa **5**.\n",
    "\n",
    "Uzasadnij zaproponowane rozwiązanie, umieszczając komentarze w treści kodu."
   ]
  },
  {
   "cell_type": "code",
   "execution_count": 1,
   "metadata": {},
   "outputs": [],
   "source": [
    "def are_anagrams(s1, s2, s3):\n",
    "    \"\"\"\n",
    "    1. Wykonujemy funkcję sorted by posortować alfabetycznie wyrazy\n",
    "    2. Posortowane wyrazy przyrównujemy do siebie, jeżeli są anagarmami otrzymamy True, jeśli nie False\n",
    "    3. Jeżeli s1 jest anagramem s2 i s2 jest anagramem s3 to s1 jest anagramem s3, dzięki czemu wystarczy\n",
    "       sprawdzić (sorted(s1) == sorted(s2)) and (sorted(s2) == sorted(s3))\n",
    "    4. Python traktuje wielokrotne porównanie jako zawierające and np. a == b == c jest traktowane jako\n",
    "       (a == b) and (b == c).\n",
    "    \"\"\"\n",
    "    return sorted(s1) == sorted(s2) == sorted(s3)"
   ]
  },
  {
   "cell_type": "code",
   "execution_count": null,
   "metadata": {},
   "outputs": [],
   "source": []
  }
 ],
 "metadata": {
  "celltoolbar": "Edit Metadata",
  "kernelspec": {
   "display_name": "Python 3",
   "language": "python",
   "name": "python3"
  },
  "language_info": {
   "codemirror_mode": {
    "name": "ipython",
    "version": 3
   },
   "file_extension": ".py",
   "mimetype": "text/x-python",
   "name": "python",
   "nbconvert_exporter": "python",
   "pygments_lexer": "ipython3",
   "version": "3.7.4"
  }
 },
 "nbformat": 4,
 "nbformat_minor": 2
}
